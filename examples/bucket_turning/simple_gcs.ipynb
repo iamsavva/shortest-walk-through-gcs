{
 "cells": [
  {
   "cell_type": "code",
   "execution_count": 3,
   "metadata": {},
   "outputs": [],
   "source": [
    "from pydrake.all import GraphOfConvexSets, HPolyhedron, Hyperrectangle, ConvexSet\n",
    "import numpy as np\n",
    "import typing as T\n",
    "from scipy.linalg import block_diag"
   ]
  },
  {
   "cell_type": "code",
   "execution_count": 4,
   "metadata": {},
   "outputs": [],
   "source": [
    "def concatenate_polyhedra(sets:T.List[ConvexSet]) -> HPolyhedron:\n",
    "    res = None\n",
    "    for cset in sets:\n",
    "        assert isinstance(cset, Hyperrectangle) or isinstance(cset, HPolyhedron)\n",
    "        if isinstance(cset, Hyperrectangle):\n",
    "            hpoly = cset.MakeHPolyhedron()\n",
    "        else:\n",
    "            hpoly = cset\n",
    "\n",
    "        if res is None:\n",
    "            res = hpoly\n",
    "        else:\n",
    "            new_A = block_diag(res.A(), hpoly.A())\n",
    "            new_b = np.vstack((res.b().reshape((len(res.b()),1)), hpoly.b().reshape((len(hpoly.b()),1))))\n",
    "            res = HPolyhedron(new_A, new_b)\n",
    "    return res"
   ]
  },
  {
   "cell_type": "code",
   "execution_count": 11,
   "metadata": {},
   "outputs": [
    {
     "name": "stderr",
     "output_type": "stream",
     "text": [
      "INFO:drake:Solved GCS shortest path using Gurobi with convex_relaxation=false and preprocessing=false and no rounding.\n"
     ]
    }
   ],
   "source": [
    "regions = [ Hyperrectangle([0,0], [2,2]), Hyperrectangle([1,1], [4,3]) ]\n",
    "\n",
    "gcs = GraphOfConvexSets()\n",
    "v_dict = dict() # type: T.Dict[str, GraphOfConvexSets.Vertex]\n",
    "\n",
    "# NOTE: you might wanna call reduce inequalities on the regions somewhere\n",
    "\n",
    "# add vertices\n",
    "for i, region in enumerate(regions):\n",
    "    # each convex set is a segment\n",
    "    name = \"v_\"+str(i)\n",
    "    v = gcs.AddVertex(concatenate_polyhedra([region, region]), name)\n",
    "    v_dict[name] = v\n",
    "\n",
    "    # TODO: add some cost here or on edges\n",
    "    v.AddCost(v.x().dot(v.x()))\n",
    "\n",
    "\n",
    "# add edges:\n",
    "for i, region_i in enumerate(regions):\n",
    "    # each convex set is a segment\n",
    "    for j in range(i+1, len(regions)):\n",
    "        region_j = regions[j]\n",
    "        # check if regions intersect\n",
    "        if region_i.IntersectsWith(region_j):\n",
    "            # add an edge\n",
    "            v_i = v_dict[\"v_\"+str(i)]\n",
    "            v_j = v_dict[\"v_\"+str(j)]\n",
    "\n",
    "            e_ij = gcs.AddEdge(v_i,v_j)\n",
    "            # NOTE: i'm adding bidirectional edges here. \n",
    "            # this may not be necessary depending on your application\n",
    "            e_ji = gcs.AddEdge(v_j,v_i)\n",
    "\n",
    "            # add edge constraint: points must coincide\n",
    "            assert len(e_ij.xu())//2 == len(e_ij.xv())//2, \"sets don't have same dimension\"\n",
    "            n = len(e_ij.xu())//2\n",
    "            for i in range(n):\n",
    "                e_ij.AddConstraint(e_ij.xu()[n+i] == e_ij.xv()[i])\n",
    "                e_ji.AddConstraint(e_ji.xu()[n+i] == e_ji.xv()[i])\n",
    "\n",
    "            # TODO: add some cost here or on vertices\n",
    "\n",
    "\n",
    "# TODO: add some initial constraints\n",
    "s_point = [0,0]\n",
    "t_point = [4,3]\n",
    "\n",
    "# NOTE: initial point at the first region is s_point\n",
    "vs = v_dict[\"v_0\"]\n",
    "n = len(e_ij.xu())//2\n",
    "for i in range(n):\n",
    "    vs.AddConstraint(vs.x()[i] == s_point[i])\n",
    "\n",
    "\n",
    "# NOTE: final point at the last region is t_point\n",
    "vt = v_dict[\"v_\"+str(len(regions)-1)]\n",
    "n = len(e_ij.xu())//2\n",
    "for i in range(n):\n",
    "    vt.AddConstraint(vt.x()[n+i] == t_point[i])\n",
    "\n",
    "solution = gcs.SolveShortestPath(vs, vt)\n",
    "assert solution.is_success()\n"
   ]
  },
  {
   "cell_type": "code",
   "execution_count": 18,
   "metadata": {},
   "outputs": [
    {
     "data": {
      "text/plain": [
       "[array([0., 0.]), array([1., 1.]), array([4., 3.])]"
      ]
     },
     "execution_count": 18,
     "metadata": {},
     "output_type": "execute_result"
    }
   ],
   "source": [
    "solution_edges = gcs.GetSolutionPath(vs,vt,solution)\n",
    "solution_vertices = [edge.u() for edge in solution_edges] + [solution_edges[-1].v()]\n",
    "segments = [solution.GetSolution(v.x()) for v in solution_vertices]\n",
    "points = [segment[:len(segment)//2] for segment in segments] + [ segments[-1][len(segments[-1])//2:] ]\n",
    "points"
   ]
  }
 ],
 "metadata": {
  "kernelspec": {
   "display_name": "env",
   "language": "python",
   "name": "python3"
  },
  "language_info": {
   "codemirror_mode": {
    "name": "ipython",
    "version": 3
   },
   "file_extension": ".py",
   "mimetype": "text/x-python",
   "name": "python",
   "nbconvert_exporter": "python",
   "pygments_lexer": "ipython3",
   "version": "3.12.7"
  }
 },
 "nbformat": 4,
 "nbformat_minor": 2
}
